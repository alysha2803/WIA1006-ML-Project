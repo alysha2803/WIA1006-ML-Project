{
  "nbformat": 4,
  "nbformat_minor": 0,
  "metadata": {
    "colab": {
      "provenance": [],
      "include_colab_link": true
    },
    "kernelspec": {
      "name": "python3",
      "display_name": "Python 3"
    },
    "language_info": {
      "name": "python"
    }
  },
  "cells": [
    {
      "cell_type": "markdown",
      "metadata": {
        "id": "view-in-github",
        "colab_type": "text"
      },
      "source": [
        "<a href=\"https://colab.research.google.com/github/alysha2803/WIA1006-ML-Project/blob/main/webScraping_treeloss_SEA.ipynb\" target=\"_parent\"><img src=\"https://colab.research.google.com/assets/colab-badge.svg\" alt=\"Open In Colab\"/></a>"
      ]
    },
    {
      "cell_type": "code",
      "source": [
        "import requests\n",
        "from bs4 import BeautifulSoup\n",
        "import pandas as pd\n",
        "\n",
        "countries = {\n",
        "    'Cambodia': \"https://worldrainforests.com/deforestation/archive/Cambodia.htm\",\n",
        "    'Indonesia': \"https://worldrainforests.com/deforestation/archive/Indonesia.htm\",\n",
        "    'Malaysia': \"https://worldrainforests.com/deforestation/archive/Malaysia.htm\",\n",
        "    'Myanmar': \"https://worldrainforests.com/deforestation/archive/Myanmar.htm\",\n",
        "    'Philippines': \"https://worldrainforests.com/deforestation/archive/Philippines.htm\",\n",
        "    'Singapore': \"https://worldrainforests.com/deforestation/archive/Singapore.htm\",\n",
        "    'Thailand': \"https://worldrainforests.com/deforestation/archive/Thailand.htm\",\n",
        "    'Vietnam': \"https://worldrainforests.com/deforestation/archive/Vietnam.htm\"\n",
        "}\n",
        "\n",
        "for country, url in countries.items():\n",
        "    response = requests.get(url)\n",
        "    if response.status_code == 200:\n",
        "        response = response.content\n",
        "        soup = BeautifulSoup(response, 'html.parser')\n",
        "        table = soup.find_all('table', class_='MyTable')\n",
        "        if len(table) > 2:\n",
        "            table = table[2]\n",
        "            b_tags = table.find_all('b')\n",
        "            hectares = []\n",
        "\n",
        "            for b_tag in b_tags:\n",
        "                text = b_tag.text.strip()\n",
        "                if text.replace(',', '').isdigit():\n",
        "                    hectares.append(float(text.replace(',', '')))\n",
        "\n",
        "            years = [year for year in range(2001, 2021)]\n",
        "            trees = [[year, hectare] for year, hectare in zip(years, hectares)]\n",
        "\n",
        "            df = pd.DataFrame(trees, columns=['Year', 'Loss'])\n",
        "            filename = f\"{country}_treeloss.csv\"\n",
        "            df.to_csv(filename, index=False)\n",
        "            print(f\"{country} data saved to {filename}\")\n",
        "        else:\n",
        "            print(f\"No data found for {country}\")\n",
        "    else:\n",
        "        print(f\"Failed to retrieve data for {country}\")"
      ],
      "metadata": {
        "colab": {
          "base_uri": "https://localhost:8080/"
        },
        "id": "hp_TKXpaQ2rR",
        "outputId": "4447f97b-651b-4c1a-e6f9-97987076db91"
      },
      "execution_count": null,
      "outputs": [
        {
          "output_type": "stream",
          "name": "stdout",
          "text": [
            "Cambodia data saved to Cambodia_treeloss.csv\n",
            "Indonesia data saved to Indonesia_treeloss.csv\n",
            "Malaysia data saved to Malaysia_treeloss.csv\n",
            "Myanmar data saved to Myanmar_treeloss.csv\n",
            "Philippines data saved to Philippines_treeloss.csv\n",
            "Singapore data saved to Singapore_treeloss.csv\n",
            "Thailand data saved to Thailand_treeloss.csv\n",
            "Vietnam data saved to Vietnam_treeloss.csv\n"
          ]
        }
      ]
    },
    {
      "cell_type": "code",
      "source": [
        "import glob\n",
        "\n",
        "def load_and_label_data(file_path, country_name):\n",
        "    data = pd.read_csv(file_path)\n",
        "    data.insert(loc=1, column='country', value=country_name)  # Insert 'country' column before 'year'\n",
        "    return data\n",
        "\n",
        "# List of countries and corresponding file paths\n",
        "country_files = {\n",
        "    'Cambodia': '/content/Cambodia_treeloss.csv',\n",
        "    'Indonesia': '/content/Indonesia_treeloss.csv',\n",
        "    'Malaysia': '/content/Malaysia_treeloss.csv',\n",
        "    'Myanmar': '/content/Myanmar_treeloss.csv',\n",
        "    'Philippines': '/content/Philippines_treeloss.csv',\n",
        "    'Singapore': '/content/Singapore_treeloss.csv',\n",
        "    'Thailand': '/content/Thailand_treeloss.csv',\n",
        "    'Vietnam': '/content/Vietnam_treeloss.csv',\n",
        "    # Add more countries and file paths as needed\n",
        "}\n",
        "\n",
        "# List to hold individual dataframes\n",
        "dataframes = []\n",
        "\n",
        "# Load each dataset and append to the list\n",
        "for country, file_path in country_files.items():\n",
        "    data = load_and_label_data(file_path, country)\n",
        "    dataframes.append(data)\n",
        "\n",
        "# Concatenate all dataframes into one\n",
        "merged_data = pd.concat(dataframes, ignore_index=True)\n",
        "\n",
        "# Save the merged dataframe to a CSV file\n",
        "merged_data.to_csv('merged_treeloss_dataset.csv', index=False)\n"
      ],
      "metadata": {
        "id": "wRhSGazRQ5YZ"
      },
      "execution_count": null,
      "outputs": []
    },
    {
      "cell_type": "code",
      "source": [],
      "metadata": {
        "id": "rBpyuNR2Vhhr"
      },
      "execution_count": null,
      "outputs": []
    }
  ]
}